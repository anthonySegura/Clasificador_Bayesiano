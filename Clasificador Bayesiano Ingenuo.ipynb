{
 "cells": [
  {
   "cell_type": "markdown",
   "metadata": {},
   "source": [
    "<h1><div align = \"center\"> Clasificador bayesiano ingenuo (Naive Bayes) </div></h1><br><br>\n",
    "En términos simples, un clasificador de Bayes ingenuo asume que la presencia o ausencia de una característica particular no está relacionada con la presencia o ausencia de cualquier otra característica, dada la clase variable. Por ejemplo, una fruta puede ser considerada como una manzana si es roja, redonda y de alrededor de 7 cm de diámetro. Un clasificador de Bayes ingenuo considera que cada una de estas características contribuye de manera independiente a la probabilidad de que esta fruta sea una manzana, independientemente de la presencia o ausencia de las otras características [Wikipedia](https://es.wikipedia.org/wiki/Clasificador_bayesiano_ingenuo)."
   ]
  },
  {
   "cell_type": "markdown",
   "metadata": {},
   "source": [
    "<h3>\n",
    "<div align=\"center\">\n",
    "Teorema de Bayes original\n",
    "</div>\n",
    "\n",
    "\n",
    "<br><br>\n",
    "\n",
    "$$ P(A \\mid B) = \\frac{P(B \\mid A) \\, P(A)}{P(B)} $$\n",
    "<br><br>\n",
    "\n",
    "<div>\n",
    "Dada una clase $C$ y un vector de características $F$ se define $P(C \\mid F)$ :\n",
    "</div>\n",
    "\n",
    "<br><br>\n",
    "\n",
    "$$ P(C \\mid F_1, F_2, ... , F_n) = \\frac{P(C) \\ P(F_1 \\mid C) \\ P(F_2 \\mid C) \\  ... P(F_n \\mid C)}{P(F_1, F_2, ... , F_n)} $$\n",
    "\n",
    "<br><br>\n",
    "\n",
    "<div align = \"center\">\n",
    "$Se \\ asume \\  que \\ cada \\ característica \\ F_i \\ es \\ independiente\\  de\\  cualquier \\ otra\\  F_j \\ (asunción \\ ingenua).$\n",
    "</div>\n",
    "\n",
    "\n",
    "<br><br><br>\n",
    "<div>\n",
    "Versión simplificada, en la practica no se necesita el denominador de la expresión:\n",
    "</div>\n",
    "<br>\n",
    "\n",
    "$$ P(C \\mid F_1, F_2, ... , F_n) = P(C) \\ \\prod_{i=1}^{n} P(F_i \\mid C)$$\n",
    "\n",
    "<br><br>\n",
    "\n",
    "<div>\n",
    "Función de densidad dada la clase $C$ y el atributo $F_i$ (distribución gaussiana):\n",
    "</div>\n",
    "\n",
    "<br><br>\n",
    "\n",
    "$$ P(F_i \\mid C) = \\frac{1}{\\sqrt[]{2\\pi \\sigma_{F_i} ^{2}}} \\ \\exp ^ {\\left(- \\frac{\\left(F_i - \\mu_{F_i} \\right)^{2}}{2\\sigma_{F_i}^{2}} \\right)}$$\n",
    "\n",
    "<br>\n",
    "\n",
    "$$ Donde \\ \\sigma_{F_i}^{2}\\ y \\ \\mu_{F_i} \\ es \\ la \\ varianza \\ y \\ la \\ media \\ de \\ F_i \\ para \\ la \\ clase \\ C. $$\n",
    "\n",
    "<br><br><br>\n",
    "<div>\n",
    "La clasificación se realiza calculando la clase más probable:\n",
    "</div>\n",
    "\n",
    "<br><br>\n",
    "\n",
    "$$ Clasificar(F_1,...,F_n) = \\arg\\max_C \\left[ \\ P(C \\mid F_1, ..., F_n)\\right] $$\n",
    "\n",
    "</h3>"
   ]
  },
  {
   "cell_type": "markdown",
   "metadata": {},
   "source": [
    "## Clasificando flores del [dataset iris](https://es.wikipedia.org/wiki/Iris_flor_conjunto_de_datos)"
   ]
  },
  {
   "cell_type": "code",
   "execution_count": 1,
   "metadata": {
    "collapsed": true
   },
   "outputs": [],
   "source": [
    "# Algebra lineal y funciones matemáticas\n",
    "import numpy as np\n",
    "# Manipulación de datos\n",
    "import pandas as pd\n",
    "# Gráficos\n",
    "import matplotlib.pyplot as plt\n",
    "import seaborn as sb\n",
    "%matplotlib inline"
   ]
  },
  {
   "cell_type": "markdown",
   "metadata": {},
   "source": [
    "## Carga de datos, Exploración y Visualización"
   ]
  },
  {
   "cell_type": "code",
   "execution_count": 2,
   "metadata": {
    "collapsed": true
   },
   "outputs": [],
   "source": [
    "data = pd.read_csv('./input/Iris.csv')"
   ]
  },
  {
   "cell_type": "code",
   "execution_count": 3,
   "metadata": {},
   "outputs": [
    {
     "data": {
      "text/html": [
       "<div>\n",
       "<table border=\"1\" class=\"dataframe\">\n",
       "  <thead>\n",
       "    <tr style=\"text-align: right;\">\n",
       "      <th></th>\n",
       "      <th>Id</th>\n",
       "      <th>SepalLengthCm</th>\n",
       "      <th>SepalWidthCm</th>\n",
       "      <th>PetalLengthCm</th>\n",
       "      <th>PetalWidthCm</th>\n",
       "      <th>Species</th>\n",
       "    </tr>\n",
       "  </thead>\n",
       "  <tbody>\n",
       "    <tr>\n",
       "      <th>0</th>\n",
       "      <td>1</td>\n",
       "      <td>5.1</td>\n",
       "      <td>3.5</td>\n",
       "      <td>1.4</td>\n",
       "      <td>0.2</td>\n",
       "      <td>Iris-setosa</td>\n",
       "    </tr>\n",
       "    <tr>\n",
       "      <th>1</th>\n",
       "      <td>2</td>\n",
       "      <td>4.9</td>\n",
       "      <td>3.0</td>\n",
       "      <td>1.4</td>\n",
       "      <td>0.2</td>\n",
       "      <td>Iris-setosa</td>\n",
       "    </tr>\n",
       "    <tr>\n",
       "      <th>2</th>\n",
       "      <td>3</td>\n",
       "      <td>4.7</td>\n",
       "      <td>3.2</td>\n",
       "      <td>1.3</td>\n",
       "      <td>0.2</td>\n",
       "      <td>Iris-setosa</td>\n",
       "    </tr>\n",
       "    <tr>\n",
       "      <th>3</th>\n",
       "      <td>4</td>\n",
       "      <td>4.6</td>\n",
       "      <td>3.1</td>\n",
       "      <td>1.5</td>\n",
       "      <td>0.2</td>\n",
       "      <td>Iris-setosa</td>\n",
       "    </tr>\n",
       "    <tr>\n",
       "      <th>4</th>\n",
       "      <td>5</td>\n",
       "      <td>5.0</td>\n",
       "      <td>3.6</td>\n",
       "      <td>1.4</td>\n",
       "      <td>0.2</td>\n",
       "      <td>Iris-setosa</td>\n",
       "    </tr>\n",
       "  </tbody>\n",
       "</table>\n",
       "</div>"
      ],
      "text/plain": [
       "   Id  SepalLengthCm  SepalWidthCm  PetalLengthCm  PetalWidthCm      Species\n",
       "0   1            5.1           3.5            1.4           0.2  Iris-setosa\n",
       "1   2            4.9           3.0            1.4           0.2  Iris-setosa\n",
       "2   3            4.7           3.2            1.3           0.2  Iris-setosa\n",
       "3   4            4.6           3.1            1.5           0.2  Iris-setosa\n",
       "4   5            5.0           3.6            1.4           0.2  Iris-setosa"
      ]
     },
     "execution_count": 3,
     "metadata": {},
     "output_type": "execute_result"
    }
   ],
   "source": [
    "data.head()"
   ]
  },
  {
   "cell_type": "code",
   "execution_count": 4,
   "metadata": {},
   "outputs": [
    {
     "name": "stdout",
     "output_type": "stream",
     "text": [
      "<class 'pandas.core.frame.DataFrame'>\n",
      "RangeIndex: 150 entries, 0 to 149\n",
      "Data columns (total 6 columns):\n",
      "Id               150 non-null int64\n",
      "SepalLengthCm    150 non-null float64\n",
      "SepalWidthCm     150 non-null float64\n",
      "PetalLengthCm    150 non-null float64\n",
      "PetalWidthCm     150 non-null float64\n",
      "Species          150 non-null object\n",
      "dtypes: float64(4), int64(1), object(1)\n",
      "memory usage: 7.1+ KB\n"
     ]
    }
   ],
   "source": [
    "data.info()"
   ]
  },
  {
   "cell_type": "code",
   "execution_count": 5,
   "metadata": {},
   "outputs": [
    {
     "data": {
      "text/html": [
       "<div>\n",
       "<table border=\"1\" class=\"dataframe\">\n",
       "  <thead>\n",
       "    <tr style=\"text-align: right;\">\n",
       "      <th></th>\n",
       "      <th>Id</th>\n",
       "      <th>SepalLengthCm</th>\n",
       "      <th>SepalWidthCm</th>\n",
       "      <th>PetalLengthCm</th>\n",
       "      <th>PetalWidthCm</th>\n",
       "    </tr>\n",
       "  </thead>\n",
       "  <tbody>\n",
       "    <tr>\n",
       "      <th>count</th>\n",
       "      <td>150.000000</td>\n",
       "      <td>150.000000</td>\n",
       "      <td>150.000000</td>\n",
       "      <td>150.000000</td>\n",
       "      <td>150.000000</td>\n",
       "    </tr>\n",
       "    <tr>\n",
       "      <th>mean</th>\n",
       "      <td>75.500000</td>\n",
       "      <td>5.843333</td>\n",
       "      <td>3.054000</td>\n",
       "      <td>3.758667</td>\n",
       "      <td>1.198667</td>\n",
       "    </tr>\n",
       "    <tr>\n",
       "      <th>std</th>\n",
       "      <td>43.445368</td>\n",
       "      <td>0.828066</td>\n",
       "      <td>0.433594</td>\n",
       "      <td>1.764420</td>\n",
       "      <td>0.763161</td>\n",
       "    </tr>\n",
       "    <tr>\n",
       "      <th>min</th>\n",
       "      <td>1.000000</td>\n",
       "      <td>4.300000</td>\n",
       "      <td>2.000000</td>\n",
       "      <td>1.000000</td>\n",
       "      <td>0.100000</td>\n",
       "    </tr>\n",
       "    <tr>\n",
       "      <th>25%</th>\n",
       "      <td>38.250000</td>\n",
       "      <td>5.100000</td>\n",
       "      <td>2.800000</td>\n",
       "      <td>1.600000</td>\n",
       "      <td>0.300000</td>\n",
       "    </tr>\n",
       "    <tr>\n",
       "      <th>50%</th>\n",
       "      <td>75.500000</td>\n",
       "      <td>5.800000</td>\n",
       "      <td>3.000000</td>\n",
       "      <td>4.350000</td>\n",
       "      <td>1.300000</td>\n",
       "    </tr>\n",
       "    <tr>\n",
       "      <th>75%</th>\n",
       "      <td>112.750000</td>\n",
       "      <td>6.400000</td>\n",
       "      <td>3.300000</td>\n",
       "      <td>5.100000</td>\n",
       "      <td>1.800000</td>\n",
       "    </tr>\n",
       "    <tr>\n",
       "      <th>max</th>\n",
       "      <td>150.000000</td>\n",
       "      <td>7.900000</td>\n",
       "      <td>4.400000</td>\n",
       "      <td>6.900000</td>\n",
       "      <td>2.500000</td>\n",
       "    </tr>\n",
       "  </tbody>\n",
       "</table>\n",
       "</div>"
      ],
      "text/plain": [
       "               Id  SepalLengthCm  SepalWidthCm  PetalLengthCm  PetalWidthCm\n",
       "count  150.000000     150.000000    150.000000     150.000000    150.000000\n",
       "mean    75.500000       5.843333      3.054000       3.758667      1.198667\n",
       "std     43.445368       0.828066      0.433594       1.764420      0.763161\n",
       "min      1.000000       4.300000      2.000000       1.000000      0.100000\n",
       "25%     38.250000       5.100000      2.800000       1.600000      0.300000\n",
       "50%     75.500000       5.800000      3.000000       4.350000      1.300000\n",
       "75%    112.750000       6.400000      3.300000       5.100000      1.800000\n",
       "max    150.000000       7.900000      4.400000       6.900000      2.500000"
      ]
     },
     "execution_count": 5,
     "metadata": {},
     "output_type": "execute_result"
    }
   ],
   "source": [
    "data.describe()"
   ]
  },
  {
   "cell_type": "code",
   "execution_count": 6,
   "metadata": {},
   "outputs": [
    {
     "data": {
      "image/png": "[encoded data removed]",
      "text/plain": [
       "<matplotlib.figure.Figure at 0x7fe9c2e4d6d8>"
      ]
     },
     "metadata": {},
     "output_type": "display_data"
    }
   ],
   "source": [
    "# Gráfico con respecto al sépalo de cada flor\n",
    "sepalPlt = sb.FacetGrid(data, hue=\"Species\", size=8) \\\n",
    "   .map(plt.scatter, \"SepalLengthCm\", \"SepalWidthCm\", s = 50)\n",
    "plt.legend(loc='upper left');"
   ]
  },
  {
   "cell_type": "code",
   "execution_count": 7,
   "metadata": {},
   "outputs": [
    {
     "data": {
      "image/png": "[encoded data removed]",
      "text/plain": [
       "<matplotlib.figure.Figure at 0x7fe9c2ddad68>"
      ]
     },
     "metadata": {},
     "output_type": "display_data"
    }
   ],
   "source": [
    "# Gráfico con respecto al pétalo de cada flor\n",
    "petalPlt = sb.FacetGrid(data, hue=\"Species\", size=8) \\\n",
    "   .map(plt.scatter, \"PetalLengthCm\", \"PetalWidthCm\", s = 50)\n",
    "plt.legend(loc='upper left');"
   ]
  },
  {
   "cell_type": "markdown",
   "metadata": {},
   "source": [
    "## Separación de los datos para entrenamiento y pruebas"
   ]
  },
  {
   "cell_type": "code",
   "execution_count": 8,
   "metadata": {
    "collapsed": true
   },
   "outputs": [],
   "source": [
    "# 80 % para entrenamiento y 20 % para pruebas\n",
    "train = data.sample(frac = 0.8)\n",
    "test = data.sample(frac = 0.2)"
   ]
  },
  {
   "cell_type": "markdown",
   "metadata": {},
   "source": [
    "## Implementación del clasificador"
   ]
  },
  {
   "cell_type": "code",
   "execution_count": 9,
   "metadata": {
    "collapsed": true
   },
   "outputs": [],
   "source": [
    "# Las medias y las varianzas se calculan con el set de entrenamiento\n",
    "means = train.groupby('Species').mean()\n",
    "variances = train.groupby('Species').var()\n",
    "\n",
    "# Calcula la media dado (caracteristica | clase)\n",
    "def mean_x_y(x, y):\n",
    "    return means[x][means.index == y].values[0]\n",
    "\n",
    "# Calcula la varianza dado (caracteristica | clase)\n",
    "def var_x_y(x, y):\n",
    "    return variances[x][variances.index == y].values[0]\n",
    "\n",
    "# Calculo de la función de probabilidad p(ejemplo | clase)\n",
    "def p_x_y(x, var_y, mean_y):\n",
    "    \n",
    "    p = 1 / (np.sqrt(2 * np.pi * var_y)) * np.exp((-(x - mean_y) ** 2) / (2 * var_y))\n",
    "    \n",
    "    return p\n",
    "\n",
    "# Calcula la probabilidad de que el ejemplo x pertenezca a la especie\n",
    "def p_especie(x, especie):\n",
    "    \n",
    "    # Calculo de p(y)\n",
    "    p = train.loc[train['Species'] == especie].shape[0] / train.shape[0]\n",
    "    \n",
    "    # p(y) * p(x_i | y)\n",
    "    for c in ['SepalLengthCm', 'SepalWidthCm', 'PetalLengthCm', 'PetalWidthCm']:\n",
    "        p *= p_x_y(x[c], var_x_y(c,especie), mean_x_y(c, especie))\n",
    "        \n",
    "    return p \n",
    "    "
   ]
  },
  {
   "cell_type": "markdown",
   "metadata": {},
   "source": [
    "## Clasificación y pruebas"
   ]
  },
  {
   "cell_type": "code",
   "execution_count": 10,
   "metadata": {},
   "outputs": [
    {
     "name": "stdout",
     "output_type": "stream",
     "text": [
      "                 precision    recall  f1-score   support\n",
      "\n",
      "    Iris-setosa       1.00      1.00      1.00        10\n",
      "Iris-versicolor       0.86      1.00      0.92         6\n",
      " Iris-virginica       1.00      0.93      0.96        14\n",
      "\n",
      "    avg / total       0.97      0.97      0.97        30\n",
      "\n"
     ]
    }
   ],
   "source": [
    "\n",
    "from sklearn.metrics import classification_report, confusion_matrix\n",
    "\n",
    "labels = ['Iris-setosa', 'Iris-versicolor', 'Iris-virginica']\n",
    "\n",
    "test_size = test.values.shape[0]\n",
    "\n",
    "pred = []\n",
    "y_true = []\n",
    "\n",
    "# Predicciones para los datos de prueba\n",
    "\n",
    "for i in range(test_size):\n",
    "    x = test.iloc[i]\n",
    "    y_true.append(x['Species'])\n",
    "    p = labels[np.argmax([p_especie(x, e) for e in labels])]\n",
    "    pred.append(p)\n",
    "\n",
    "# print('Accuracy : ', accuracy_score(y_true, pred))\n",
    "print(classification_report(y_true, pred))\n"
   ]
  },
  {
   "cell_type": "code",
   "execution_count": 11,
   "metadata": {},
   "outputs": [
    {
     "data": {
      "image/png": "[encoded data removed]",
      "text/plain": [
       "<matplotlib.figure.Figure at 0x7fe9c2c4f7f0>"
      ]
     },
     "metadata": {},
     "output_type": "display_data"
    }
   ],
   "source": [
    "cfm = confusion_matrix(y_true, pred, labels = labels)\n",
    "fig, ax = plt.subplots(figsize=(10,7)) \n",
    "sb.heatmap(cfm, annot = True, xticklabels = labels, yticklabels = labels, ax = ax);\n",
    "plt.title('Matrix de confusión Naive Bayes');"
   ]
  },
  {
   "cell_type": "markdown",
   "metadata": {},
   "source": [
    "![not-bad](./input/not-bad.jpg)"
   ]
  }
 ],
 "metadata": {
  "kernelspec": {
   "display_name": "Python 3",
   "language": "python",
   "name": "python3"
  },
  "language_info": {
   "codemirror_mode": {
    "name": "ipython",
    "version": 3
   },
   "file_extension": ".py",
   "mimetype": "text/x-python",
   "name": "python",
   "nbconvert_exporter": "python",
   "pygments_lexer": "ipython3",
   "version": "3.6.1"
  }
 },
 "nbformat": 4,
 "nbformat_minor": 2
}
